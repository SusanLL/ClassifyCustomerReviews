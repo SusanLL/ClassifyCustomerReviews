{
  "cells": [
    {
      "cell_type": "markdown",
      "metadata": {
        "id": "view-in-github",
        "colab_type": "text"
      },
      "source": [
        "<a href=\"https://colab.research.google.com/github/SusanLL/ClassifyCustomerReviews/blob/main/Machine_Translation_of_%E2%80%9CPride_and_Prejudice%E2%80%9D_Using_Transformers.ipynb\" target=\"_parent\"><img src=\"https://colab.research.google.com/assets/colab-badge.svg\" alt=\"Open In Colab\"/></a>"
      ]
    },
    {
      "cell_type": "code",
      "source": [
        "!pip install transformers requests bs4 torch\n",
        "\n",
        "import requests\n",
        "from bs4 import BeautifulSoup\n",
        "from transformers import pipeline, AutoTokenizer, AutoModelWithLMHead\n",
        "import torch"
      ],
      "metadata": {
        "id": "RgiETVTa7Ttv",
        "colab": {
          "base_uri": "https://localhost:8080/"
        },
        "outputId": "8df712f0-baad-46bb-ad4b-84c249e66143"
      },
      "execution_count": null,
      "outputs": [
        {
          "output_type": "stream",
          "name": "stdout",
          "text": [
            "Requirement already satisfied: transformers in /usr/local/lib/python3.10/dist-packages (4.44.2)\n",
            "Requirement already satisfied: requests in /usr/local/lib/python3.10/dist-packages (2.32.3)\n",
            "Requirement already satisfied: bs4 in /usr/local/lib/python3.10/dist-packages (0.0.2)\n",
            "Requirement already satisfied: torch in /usr/local/lib/python3.10/dist-packages (2.5.0+cu121)\n",
            "Requirement already satisfied: filelock in /usr/local/lib/python3.10/dist-packages (from transformers) (3.16.1)\n",
            "Requirement already satisfied: huggingface-hub<1.0,>=0.23.2 in /usr/local/lib/python3.10/dist-packages (from transformers) (0.24.7)\n",
            "Requirement already satisfied: numpy>=1.17 in /usr/local/lib/python3.10/dist-packages (from transformers) (1.26.4)\n",
            "Requirement already satisfied: packaging>=20.0 in /usr/local/lib/python3.10/dist-packages (from transformers) (24.1)\n",
            "Requirement already satisfied: pyyaml>=5.1 in /usr/local/lib/python3.10/dist-packages (from transformers) (6.0.2)\n",
            "Requirement already satisfied: regex!=2019.12.17 in /usr/local/lib/python3.10/dist-packages (from transformers) (2024.9.11)\n",
            "Requirement already satisfied: safetensors>=0.4.1 in /usr/local/lib/python3.10/dist-packages (from transformers) (0.4.5)\n",
            "Requirement already satisfied: tokenizers<0.20,>=0.19 in /usr/local/lib/python3.10/dist-packages (from transformers) (0.19.1)\n",
            "Requirement already satisfied: tqdm>=4.27 in /usr/local/lib/python3.10/dist-packages (from transformers) (4.66.6)\n",
            "Requirement already satisfied: charset-normalizer<4,>=2 in /usr/local/lib/python3.10/dist-packages (from requests) (3.4.0)\n",
            "Requirement already satisfied: idna<4,>=2.5 in /usr/local/lib/python3.10/dist-packages (from requests) (3.10)\n",
            "Requirement already satisfied: urllib3<3,>=1.21.1 in /usr/local/lib/python3.10/dist-packages (from requests) (2.2.3)\n",
            "Requirement already satisfied: certifi>=2017.4.17 in /usr/local/lib/python3.10/dist-packages (from requests) (2024.8.30)\n",
            "Requirement already satisfied: beautifulsoup4 in /usr/local/lib/python3.10/dist-packages (from bs4) (4.12.3)\n",
            "Requirement already satisfied: typing-extensions>=4.8.0 in /usr/local/lib/python3.10/dist-packages (from torch) (4.12.2)\n",
            "Requirement already satisfied: networkx in /usr/local/lib/python3.10/dist-packages (from torch) (3.4.2)\n",
            "Requirement already satisfied: jinja2 in /usr/local/lib/python3.10/dist-packages (from torch) (3.1.4)\n",
            "Requirement already satisfied: fsspec in /usr/local/lib/python3.10/dist-packages (from torch) (2024.10.0)\n",
            "Requirement already satisfied: sympy==1.13.1 in /usr/local/lib/python3.10/dist-packages (from torch) (1.13.1)\n",
            "Requirement already satisfied: mpmath<1.4,>=1.1.0 in /usr/local/lib/python3.10/dist-packages (from sympy==1.13.1->torch) (1.3.0)\n",
            "Requirement already satisfied: soupsieve>1.2 in /usr/local/lib/python3.10/dist-packages (from beautifulsoup4->bs4) (2.6)\n",
            "Requirement already satisfied: MarkupSafe>=2.0 in /usr/local/lib/python3.10/dist-packages (from jinja2->torch) (3.0.2)\n"
          ]
        }
      ]
    },
    {
      "cell_type": "code",
      "source": [
        "# Chapther II\n",
        "def fetch_book_text(url):\n",
        "    response = requests.get(url)\n",
        "    response.raise_for_status()\n",
        "    soup = BeautifulSoup(response.text, 'html.parser')\n",
        "    book_text = soup.get_text()\n",
        "\n",
        "    # Optional: Trim the book text to remove preamble or end notes\n",
        "    start_text = \"R. BENNET was am\"\n",
        "    end_text = \"him to dinner.\"\n",
        "    start_idx = book_text.find(start_text)\n",
        "    end_idx = book_text.rfind(end_text)\n",
        "    main_content = book_text[start_idx:end_idx].strip()\n",
        "\n",
        "    return main_content"
      ],
      "metadata": {
        "id": "LqTepn5lgAOF"
      },
      "execution_count": null,
      "outputs": []
    },
    {
      "cell_type": "code",
      "source": [
        "url = \"https://www.gutenberg.org/cache/epub/1342/pg1342-images.html\"\n",
        "book_text = fetch_book_text(url)\n",
        "print(book_text[:3000])"
      ],
      "metadata": {
        "id": "3L7ypHx77dAz",
        "colab": {
          "base_uri": "https://localhost:8080/"
        },
        "outputId": "bd46d8cb-44ea-4330-8a5c-95824de37d23"
      },
      "execution_count": null,
      "outputs": [
        {
          "output_type": "stream",
          "name": "stdout",
          "text": [
            "R. BENNET was among the earliest of those who waited on Mr. Bingley. He\r\n",
            "had always intended to visit him, though to the last always assuring his\r\n",
            "wife that he should not go; and till the evening after the visit was\r\n",
            "paid she had no knowledge of it. It was then disclosed in the following\r\n",
            "manner. Observing his second daughter employed in trimming a hat, he\r\n",
            "suddenly addressed her with,—\n",
            "“I hope Mr. Bingley will like it, Lizzy.”\n",
            "“We are not in a way to know what Mr. Bingley likes,” said her mother,\r\n",
            "resentfully, “since we are not to visit.{7}”\n",
            "“But you forget, mamma,” said Elizabeth, “that we shall meet him at the\r\n",
            "assemblies, and that Mrs. Long has promised to introduce him.”\n",
            "“I do not believe Mrs. Long will do any such thing. She has two nieces\r\n",
            "of her own. She is a selfish, hypocritical woman, and I have no opinion\r\n",
            "of her.”\n",
            "“No more have I,” said Mr. Bennet; “and I am glad to find that you do\r\n",
            "not depend on her serving you.”\n",
            "Mrs. Bennet deigned not to make any reply; but, unable to contain\r\n",
            "herself, began scolding one of her daughters.\n",
            "“Don’t keep coughing so, Kitty, for heaven’s sake! Have a little\r\n",
            "compassion on my nerves. You tear them to pieces.”\n",
            "“Kitty has no discretion in her coughs,” said her father; “she times\r\n",
            "them ill.”\n",
            "“I do not cough for my own amusement,” replied Kitty, fretfully. “When\r\n",
            "is your next ball to be, Lizzy?”\n",
            "“To-morrow fortnight.”\n",
            "“Ay, so it is,” cried her mother, “and Mrs. Long does not come back till\r\n",
            "the day before; so, it will be impossible for her to introduce him, for\r\n",
            "she will not know him herself.”\n",
            "“Then, my dear, you may have the advantage of your friend, and introduce\r\n",
            "Mr. Bingley to her.”\n",
            "“Impossible, Mr. Bennet, impossible, when I am not acquainted with him\r\n",
            "myself; how can you be so teasing?”\n",
            "“I honour your circumspection. A fortnight’s acquaintance is certainly\r\n",
            "very little. One cannot know what a man really is by the end of a\r\n",
            "fortnight. But if we do not venture, somebody else will; and after\r\n",
            "all, Mrs. Long and her nieces must stand their chance; and, therefore,{8}\r\n",
            "as she will think it an act of kindness, if you decline the office, I\r\n",
            "will take it on myself.”\n",
            "The girls stared at their father. Mrs. Bennet said only, “Nonsense,\r\n",
            "nonsense!”\n",
            "“What can be the meaning of that emphatic exclamation?” cried he. “Do\r\n",
            "you consider the forms of introduction, and the stress that is laid on\r\n",
            "them, as nonsense? I cannot quite agree with you there. What say you,\r\n",
            "Mary? For you are a young lady of deep reflection, I know, and read\r\n",
            "great books, and make extracts.”\n",
            "Mary wished to say something very sensible, but knew not how.\n",
            "“While Mary is adjusting her ideas,” he continued, “let us return to Mr.\r\n",
            "Bingley.”\n",
            "“I am sick of Mr. Bingley,” cried his wife.\n",
            "“I am sorry to hear that; but why did you not tell me so before? If I\r\n",
            "had known as much this morning, I certainly would not have called on\r\n",
            "him. It is very unlucky; but as I have actually paid the visit, we\r\n",
            "cannot escape the acquaintance now.”\n",
            "The astonishment of the lad\n"
          ]
        }
      ]
    },
    {
      "cell_type": "code",
      "source": [
        "text_to_translate = book_text[:1000]"
      ],
      "metadata": {
        "id": "mX4SfRuxoeyc"
      },
      "execution_count": null,
      "outputs": []
    },
    {
      "cell_type": "markdown",
      "metadata": {
        "id": "s2Ge5c10Dvqm"
      },
      "source": [
        "Let's translate the our text to Spanish:"
      ]
    },
    {
      "cell_type": "code",
      "source": [
        "translator_es = pipeline(\"translation_en_to_es\", model=\"Helsinki-NLP/opus-mt-en-es\")"
      ],
      "metadata": {
        "colab": {
          "base_uri": "https://localhost:8080/"
        },
        "id": "jmBxojh-hhAn",
        "outputId": "7e1a76cf-b01f-4988-dfa2-00fe01d14ee1"
      },
      "execution_count": null,
      "outputs": [
        {
          "output_type": "stream",
          "name": "stderr",
          "text": [
            "Hardware accelerator e.g. GPU is available in the environment, but no `device` argument is passed to the `Pipeline` object. Model will be on CPU.\n"
          ]
        }
      ]
    },
    {
      "cell_type": "code",
      "source": [
        "# Translate the selected portion of the book text into Spanish\n",
        "translated_text_es = translator_es(text_to_translate[:1000])[0]['translation_text']"
      ],
      "metadata": {
        "id": "MBsUsTAmqxwf"
      },
      "execution_count": null,
      "outputs": []
    },
    {
      "cell_type": "code",
      "source": [
        "translated_text_es[:1000]"
      ],
      "metadata": {
        "colab": {
          "base_uri": "https://localhost:8080/",
          "height": 157
        },
        "id": "OmWqDef-q8LY",
        "outputId": "0414c671-6fe5-48e5-8ef5-157ea8b80b09"
      },
      "execution_count": null,
      "outputs": [
        {
          "output_type": "execute_result",
          "data": {
            "text/plain": [
              "'R. BENNET era uno de los primeros que esperaban al Sr. Bingley. Siempre había tenido la intención de visitarlo, aunque hasta el último siempre asegurando a su esposa que no debía ir; y hasta la noche después de la visita se le pagó que no tenía conocimiento de ella. Entonces se reveló de la siguiente manera. Observando a su segunda hija empleada en recortar un sombrero, de repente se dirigió a ella con, - \"Espero que al Sr. Bingley le guste, Lizzy.\" \"No estamos en una manera de saber lo que le gusta al Sr. Bingley\", dijo su madre, con resentimiento, \"ya que no vamos a visitar. {7}\" \"Pero usted se olvida, mamá\", dijo Elizabeth, \"que nos reuniremos con él en las asambleas, y que la Sra. Long ha prometido presentarlo.\" \"No creo que la Sra. Long hará tal cosa. Ella tiene dos sobrinas propias. Ella es una mujer egoísta, hipócrita, y no tengo opinión de ella.\"'"
            ],
            "application/vnd.google.colaboratory.intrinsic+json": {
              "type": "string"
            }
          },
          "metadata": {},
          "execution_count": 121
        }
      ]
    },
    {
      "cell_type": "code",
      "source": [
        "def calculate_perplexity(text, model_name):\n",
        "    model = AutoModelWithLMHead.from_pretrained(model_name)\n",
        "    tokenizer = AutoTokenizer.from_pretrained(model_name)\n",
        "    inputs = tokenizer(text, return_tensors=\"pt\", truncation=True, max_length=512)\n",
        "\n",
        "    with torch.no_grad():\n",
        "        loss = model(**inputs, labels=inputs[\"input_ids\"]).loss\n",
        "    return torch.exp(loss).item()"
      ],
      "metadata": {
        "id": "PsDX7Dj8p3Mq"
      },
      "execution_count": null,
      "outputs": []
    },
    {
      "cell_type": "code",
      "source": [
        "spanish_perplexity_model = \"dccuchile/bert-base-spanish-wwm-cased\"\n",
        "spanish_perplexity = calculate_perplexity(translated_text_es, spanish_perplexity_model)"
      ],
      "metadata": {
        "id": "Xf6XF-m3qCKN"
      },
      "execution_count": null,
      "outputs": []
    },
    {
      "cell_type": "code",
      "source": [
        "print(\"Perplexity for Spanish Translation:\", spanish_perplexity)"
      ],
      "metadata": {
        "colab": {
          "base_uri": "https://localhost:8080/"
        },
        "id": "sY1Fro52qEvE",
        "outputId": "b87af06f-38b5-4661-ff1f-227059ccdea2"
      },
      "execution_count": null,
      "outputs": [
        {
          "output_type": "stream",
          "name": "stdout",
          "text": [
            "Perplexity for Spanish Translation: 1.7127097845077515\n"
          ]
        }
      ]
    },
    {
      "cell_type": "markdown",
      "source": [
        "Perplexity ≈ 1: Indicates very high fluency and coherence, as it means the model finds the text almost perfectly aligned with standard language usage."
      ],
      "metadata": {
        "id": "k-LSNi1-riQx"
      }
    },
    {
      "cell_type": "code",
      "source": [
        "from nltk.translate.bleu_score import sentence_bleu, SmoothingFunction\n",
        "import nltk\n",
        "\n",
        "nltk.download('punkt')"
      ],
      "metadata": {
        "colab": {
          "base_uri": "https://localhost:8080/"
        },
        "id": "NAnKhyyEt4CR",
        "outputId": "56f1e65b-315e-48c4-fa60-3037e263b184"
      },
      "execution_count": null,
      "outputs": [
        {
          "output_type": "stream",
          "name": "stderr",
          "text": [
            "[nltk_data] Downloading package punkt to /root/nltk_data...\n",
            "[nltk_data]   Package punkt is already up-to-date!\n"
          ]
        },
        {
          "output_type": "execute_result",
          "data": {
            "text/plain": [
              "True"
            ]
          },
          "metadata": {},
          "execution_count": 125
        }
      ]
    },
    {
      "cell_type": "code",
      "source": [
        "reference_text_es = \"El\tseñor\tBennet\tfue\tuno\tde\tlos\tprimeros\ten\tpresentar\tsus\trespetos\tal\tseñor Bingley.\tSiempre\ttuvo\tla\tintención\tde\tvisitarlo,\taunque,\tal\tfinal,\tsiempre\tle aseguraba\ta\tsu\tesposa\tque\tno\tlo\tharía;\ty\thasta\tla\ttarde\tdespués\tde\tsu\tvisita,\tsu mujer\tno\tse\tenteró\tde\tnada.\tLa\tcosa\tse\tllegó\ta\tsaber\tde\tla\tsiguiente\tmanera: observando\tel\tseñor\tBennet\tcómo\tsu\thija\tse\tcolocaba\tun\tsombrero,\tdijo:––Espero\tque\tal\tseñor\tBingley\tle\tguste,\tLizzy.––¿Cómo\tpodemos\tsaber\tqué\tle\tgusta\tal\tseñor\tBingley\t––dijo\tsu\tesposa resentida––\tsi\ttodavía\tno\themos\tido\ta\tvisitarlo?––Olvidas,\tmamá\t––dijo\tElizabeth––\tque\tlo\tveremos\ten\tlas\tfiestas,\ty\tque la\tseñora\tLong\tha\tprometido\tpresentárnoslo.––No\tcreo\tque\tla\tseñora\tLong\thaga\tsemejante\tcosa.\tElla\ttiene\tdos\tsobrinas en\tquienes\tpensar;\tes\tegoísta\te\thipócrita\ty\tno\tmerece\tmi\tconfianza.––Ni\tla\tmía\ttampoco\t––dijo\tel\tseñor\tBennet––\ty\tme\talegro\tde\tsaber\tque\tno dependes\tde\tsus\tservicios.\tLa\tseñora\tBennet\tno\tse\tdignó\tcontestar;\tpero incapaz\tde\tcontenerse\tempezó\ta\treprender\ta\tuna\tde\tsus\thijas.––¡Por\tel\tamor\tde\tDios,\tKitty\tno\tsigas\ttosiendo\tasí!\tTen\tcompasión\tde\tmis nervios.\tMe\tlos\testás\tdestrozando.––Kitty\tno\tes\tnada\tdiscreta\ttosiendo\t––dijo\tsu\tpadre––.\tSiempre\tlo\thace\ten momento\tinoportuno.\t––A\tmí\tno\tme\tdivierte\ttoser\t––replicó\tKitty\tquejándose.––¿Cuándo\tes\ttu\tpróximo\tbaile,\tLizzy?––De\tmañana\ten\tquince\tdías.––Sí,\tasí\tes\t––exclamó\tla\tmadre––.\tY\tla\tseñora\tLong\tno\tvolverá\thasta\tun día\tantes;\tasí\tque\tle\tserá\timposible\tpresentarnos\tal\tseñor\tBingley,\tporque todavía\tno\tle\tconocerá.––Entonces,\tseñora\tBennet,\tpuedes\ttomarle\tla\tdelantera\ta\ttu\tamiga\ty presentárselo\ttú\ta\tella.\t––Imposible,\tseñor\tBennet,\timposible,\tcuando\tyotampoco\tle\tconozco.\t¿Por\tqué\tte\tburlas?––Celebro\ttu\tdiscreción.\tUna\tamistad\tde\tquince\tdías\tes\tverdaderamente muy\tpoco.\tEn\trealidad,\tal\tcabo\tde\tsólo\tdos\tsemanas\tno\tse\tpuede\tsaber\tmuy bien\tqué\tclase\tde\thombre\tes.\tPero\tsi\tno\tnos\tarriesgamos\tnosotros,\tlo\tharán otros.\tAl\tfin\ty\tal\tcabo,\tla\tseñora\tLong\ty\tsus\tsobrinas\tpueden\tesperar\ta\tque\tse les\tpresente\tsu\toportunidad;\tpero,\tno\tobstante,\tcomo\tcreerá\tque\tes\tun\tacto\tde delicadeza\tpor\tsu\tparte\tel\tdeclinar\tla\tatención,\tseré\tyo\tel\tque\tos\tlo\tpresente. Las\tmuchachas\tmiraron\ta\tsu\tpadre\tfijamente.\tLa\tseñora\tBennet\tse\tlimitó\ta decir:\t––¡Tonterías,\ttonterías!––¿Qué\tsignifica\tesa\tenfática\texclamación?\t––preguntó\tel\tseñor\tBennet––. ¿Consideras\tlas\tfórmulas\tde\tpresentación\tcomo\ttonterías,\tcon\tla\timportancia que\ttienen?\tNo\testoy\tde\tacuerdo\tcontigo\ten\teso.\t¿Qué\tdices\ttú,\tMary?\tQue\tyo sé\tque\teres\tuna\tjoven\tmuy\treflexiva,\ty\tque\tlees\tgrandes\tlibros\ty\tlos\tresumes. Mary\tquiso\tdecir\talgo\tsensato,\tpero\tno\tsupo\tcómo.––Mientras\tMary\taclara\tsus\tideas\t––continuó\tél––,\tvolvamos\tal\tseñor Bingley.\t––¡Estoy\tharta\tdel\tseñor\tBingley!\t––gritó\tsu\tesposa.\""
      ],
      "metadata": {
        "id": "T69mpBkdrhkv"
      },
      "execution_count": null,
      "outputs": []
    },
    {
      "cell_type": "code",
      "source": [
        "reference_tokens = [reference_text_es.split()]\n",
        "generated_tokens = translated_text_es.split()"
      ],
      "metadata": {
        "id": "-aapTKEernhd"
      },
      "execution_count": null,
      "outputs": []
    },
    {
      "cell_type": "code",
      "source": [
        "smoothie = SmoothingFunction().method4  # Smoothing function for small texts\n",
        "bleu_score = sentence_bleu(reference_tokens, generated_tokens, smoothing_function=smoothie)\n",
        "\n",
        "print(\"BLEU Score for Spanish Translation:\", bleu_score)"
      ],
      "metadata": {
        "colab": {
          "base_uri": "https://localhost:8080/"
        },
        "id": "RYpg3Efxt9Ec",
        "outputId": "01c5b63b-3dd2-4104-f37e-acabdb7bf00d"
      },
      "execution_count": null,
      "outputs": [
        {
          "output_type": "stream",
          "name": "stdout",
          "text": [
            "BLEU Score for Spanish Translation: 0.02335579328371668\n"
          ]
        }
      ]
    },
    {
      "cell_type": "code",
      "source": [
        "from rouge_score import rouge_scorer\n",
        "\n",
        "# Initialize ROUGE scorer for ROUGE-1, ROUGE-2, and ROUGE-L\n",
        "scorer = rouge_scorer.RougeScorer(['rouge1', 'rouge2', 'rougeL'], use_stemmer=True)\n",
        "\n",
        "# Calculate ROUGE scores (reference and generated translations)\n",
        "rouge_scores = scorer.score(reference_text_es, translated_text_es)\n",
        "\n",
        "# Display results\n",
        "print(\"ROUGE-1 Score:\", rouge_scores['rouge1'].fmeasure)\n",
        "print(\"ROUGE-2 Score:\", rouge_scores['rouge2'].fmeasure)\n",
        "print(\"ROUGE-L Score:\", rouge_scores['rougeL'].fmeasure)"
      ],
      "metadata": {
        "colab": {
          "base_uri": "https://localhost:8080/"
        },
        "id": "g4SJ0l05uBpt",
        "outputId": "7740763f-e619-4d98-b595-f9df726a1d47"
      },
      "execution_count": null,
      "outputs": [
        {
          "output_type": "stream",
          "name": "stdout",
          "text": [
            "ROUGE-1 Score: 0.3538011695906432\n",
            "ROUGE-2 Score: 0.17008797653958946\n",
            "ROUGE-L Score: 0.260233918128655\n"
          ]
        }
      ]
    }
  ],
  "metadata": {
    "accelerator": "GPU",
    "colab": {
      "provenance": [],
      "include_colab_link": true
    },
    "kernelspec": {
      "display_name": "Python 3 (ipykernel)",
      "language": "python",
      "name": "python3"
    },
    "language_info": {
      "codemirror_mode": {
        "name": "ipython",
        "version": 3
      },
      "file_extension": ".py",
      "mimetype": "text/x-python",
      "name": "python",
      "nbconvert_exporter": "python",
      "pygments_lexer": "ipython3",
      "version": "3.8.10"
    }
  },
  "nbformat": 4,
  "nbformat_minor": 0
}